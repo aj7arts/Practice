import seaborn as sns
from scipy.stats import norm

data = norm.rvs(size=10000, loc=0, scale=1)

# Create a distribution plot using displot
sns.displot(data, bins=100, kde=True, color='skyblue', linewidth=15, alpha=1)
# Set labels for the x-axis and y-axis
plt.xlabel('Normal Distribution')
plt.ylabel('Frequency')
# Show the plot
plt.show()
